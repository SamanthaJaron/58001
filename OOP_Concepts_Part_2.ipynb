{
  "nbformat": 4,
  "nbformat_minor": 0,
  "metadata": {
    "colab": {
      "provenance": [],
      "authorship_tag": "ABX9TyNXo4BQLDSccQmcY86ki/Ln",
      "include_colab_link": true
    },
    "kernelspec": {
      "name": "python3",
      "display_name": "Python 3"
    },
    "language_info": {
      "name": "python"
    }
  },
  "cells": [
    {
      "cell_type": "markdown",
      "metadata": {
        "id": "view-in-github",
        "colab_type": "text"
      },
      "source": [
        "<a href=\"https://colab.research.google.com/github/SamanthaJaron/OOP58001/blob/main/OOP_Concepts_Part_2.ipynb\" target=\"_parent\"><img src=\"https://colab.research.google.com/assets/colab-badge.svg\" alt=\"Open In Colab\"/></a>"
      ]
    },
    {
      "cell_type": "code",
      "source": [
        "class Birds:\n",
        "  def __init__(self,bird_name):\n",
        "    self.bird_name = bird_name\n",
        "  def flying_birds(self):\n",
        "    print(f\"{self.bird_name} flies above the clouds\")\n",
        "  def non_flying_birds(self):\n",
        "    print(f\"{self.bird_name} is the national bird of the Philippines\")\n",
        "\n",
        "vulture = Birds(\"Griffon Vulture\")\n",
        "crane = Birds(\"Common Crane\")\n",
        "emu = Birds(\"Emu\")\n",
        "\n",
        "vulture.flying_birds()\n",
        "crane.flying_birds()\n",
        "emu.non_flying_birds()"
      ],
      "metadata": {
        "colab": {
          "base_uri": "https://localhost:8080/"
        },
        "id": "_6jmcqb6Y_EN",
        "outputId": "733da10d-1b34-49d6-e80b-990d6371e8e1"
      },
      "execution_count": 13,
      "outputs": [
        {
          "output_type": "stream",
          "name": "stdout",
          "text": [
            "Griffon Vulture flies above the clouds\n",
            "Common Crane flies above the clouds\n",
            "Emu is the national bird of the Philippines\n"
          ]
        }
      ]
    },
    {
      "cell_type": "code",
      "source": [
        "class foo:\n",
        "  def __init__(self, a, b):\n",
        "    self.__a = a\n",
        "    self.__b = b\n",
        "  def add(self):\n",
        "    return self.__a + self.__b\n",
        "foo_object = foo(3,4)\n",
        "foo_object.add()\n",
        "foo_object.a = 5\n",
        "foo_object.add()"
      ],
      "metadata": {
        "colab": {
          "base_uri": "https://localhost:8080/"
        },
        "id": "HZ18NU6SZONE",
        "outputId": "97bf7190-d1b8-4e66-fb1e-6a643bd94ce2"
      },
      "execution_count": 18,
      "outputs": [
        {
          "output_type": "execute_result",
          "data": {
            "text/plain": [
              "7"
            ]
          },
          "metadata": {},
          "execution_count": 18
        }
      ]
    },
    {
      "cell_type": "code",
      "source": [
        "class Counter:\n",
        "  def __init__(self):\n",
        "    self.current=0\n",
        "  def increment(self):\n",
        "    self.current +=1\n",
        "  def value(self):\n",
        "    return self.current\n",
        "  def reset(self):\n",
        "    self.current=0\n",
        "counter=Counter()\n",
        "counter.increment\n",
        "counter.value()\n",
        "counter.reset()\n",
        "counter.value()"
      ],
      "metadata": {
        "colab": {
          "base_uri": "https://localhost:8080/"
        },
        "id": "SiiJmS8MdTZt",
        "outputId": "b4366527-505b-40db-962a-19950d335128"
      },
      "execution_count": 19,
      "outputs": [
        {
          "output_type": "execute_result",
          "data": {
            "text/plain": [
              "0"
            ]
          },
          "metadata": {},
          "execution_count": 19
        }
      ]
    },
    {
      "cell_type": "code",
      "source": [
        "class Person:\n",
        "  def __init__(self,name,birthdate):\n",
        "    self.name=name\n",
        "    self.birthdate=birthdate\n",
        "  def display(self):\n",
        "    print(f\"My name is\", self.name)\n",
        "    print(f\"My birthdate is\", self.birthdate)\n",
        "class Student(Person):\n",
        "  pass\n",
        "class Teacher(Person):\n",
        "  pass\n",
        "student = Student(\"Antoine Frédéric Ozanam\",\"April 23, 1813\")\n",
        "student.display()\n",
        "teacher = Teacher(\"Vincent de Paul\",\"April 24, 1581\")\n",
        "teacher.display()"
      ],
      "metadata": {
        "colab": {
          "base_uri": "https://localhost:8080/"
        },
        "id": "ekOwGdQ3l5Dd",
        "outputId": "3e60b124-a441-4ac5-9db4-6867a5a713f6"
      },
      "execution_count": 21,
      "outputs": [
        {
          "output_type": "stream",
          "name": "stdout",
          "text": [
            "My name is Antoine Frédéric Ozanam\n",
            "My birthdate is April 23, 1813\n",
            "My name is Vincent de Paul\n",
            "My birthdate is April 24, 1581\n"
          ]
        }
      ]
    },
    {
      "cell_type": "code",
      "source": [
        "class Shapes:\n",
        "  def __init__(self, shape, sides):\n",
        "    self.__shape = shape\n",
        "    self.__sides = sides\n",
        "  def display(self):\n",
        "    print(f\"This shape\", \"'\" , self.__shape, \"'\", \"has\",self.__sides,\"sides. :O\")\n",
        "\n",
        "class Star(Shapes):\n",
        "  pass\n",
        "class Cross(Shapes):\n",
        "  pass\n",
        "class Rhombus(Shapes):\n",
        "  pass\n",
        "class Square(Shapes):\n",
        "  pass\n",
        "class Trapezium(Shapes):\n",
        "  pass\n",
        "\n",
        "star = Star(\"Star\", \"10\")\n",
        "star.display()\n",
        "cross = Cross(\"Cross\", \"12\")\n",
        "cross.display()\n",
        "rhombus = Rhombus(\"Rhombus\", \"4\")\n",
        "rhombus.display()\n",
        "square = Square(\"Square\", \"4\")\n",
        "square.display()\n",
        "trapezium = Trapezium(\"Trapezium\", \"4\")\n",
        "trapezium.display()"
      ],
      "metadata": {
        "colab": {
          "base_uri": "https://localhost:8080/"
        },
        "id": "OzImadSpnJRt",
        "outputId": "2a350370-223e-40b1-8136-b90eaea1fabf"
      },
      "execution_count": 23,
      "outputs": [
        {
          "output_type": "stream",
          "name": "stdout",
          "text": [
            "This shape ' Star ' has 10 sides. :O\n",
            "This shape ' Cross ' has 12 sides. :O\n",
            "This shape ' Rhombus ' has 4 sides. :O\n",
            "This shape ' Square ' has 4 sides. :O\n",
            "This shape ' Trapezium ' has 4 sides. :O\n"
          ]
        }
      ]
    }
  ]
}