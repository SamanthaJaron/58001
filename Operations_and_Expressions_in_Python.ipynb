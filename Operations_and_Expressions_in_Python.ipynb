{
  "nbformat": 4,
  "nbformat_minor": 0,
  "metadata": {
    "colab": {
      "provenance": [],
      "authorship_tag": "ABX9TyPmsMBEZPTUJtoWz0KEv0la",
      "include_colab_link": true
    },
    "kernelspec": {
      "name": "python3",
      "display_name": "Python 3"
    },
    "language_info": {
      "name": "python"
    }
  },
  "cells": [
    {
      "cell_type": "markdown",
      "metadata": {
        "id": "view-in-github",
        "colab_type": "text"
      },
      "source": [
        "<a href=\"https://colab.research.google.com/github/SamanthaJaron/OOP58001/blob/main/Operations_and_Expressions_in_Python.ipynb\" target=\"_parent\"><img src=\"https://colab.research.google.com/assets/colab-badge.svg\" alt=\"Open In Colab\"/></a>"
      ]
    },
    {
      "cell_type": "markdown",
      "source": [
        "Boolean Operations"
      ],
      "metadata": {
        "id": "23Y9hlOpThI4"
      }
    },
    {
      "cell_type": "code",
      "source": [
        "print (10 > 9)\n",
        "print (10 == 9)\n",
        "print (10 < 9)\n"
      ],
      "metadata": {
        "colab": {
          "base_uri": "https://localhost:8080/"
        },
        "id": "Y96dGj3-ToeB",
        "outputId": "08b1a150-f5ff-4829-f29d-fc55f651e269"
      },
      "execution_count": 5,
      "outputs": [
        {
          "output_type": "stream",
          "name": "stdout",
          "text": [
            "True\n",
            "False\n",
            "False\n"
          ]
        }
      ]
    },
    {
      "cell_type": "markdown",
      "source": [
        "Bool() Function"
      ],
      "metadata": {
        "id": "p748JeatUtbv"
      }
    },
    {
      "cell_type": "code",
      "source": [
        "print(bool(\"Hello\"))\n",
        "print(bool(1))\n",
        "print(bool(0))\n",
        "print(bool(None))\n",
        "print(bool(True))"
      ],
      "metadata": {
        "colab": {
          "base_uri": "https://localhost:8080/"
        },
        "id": "s_cQbnG6Umgv",
        "outputId": "f61c32e1-a60f-466c-c845-0b9db5fc0091"
      },
      "execution_count": 10,
      "outputs": [
        {
          "output_type": "stream",
          "name": "stdout",
          "text": [
            "True\n",
            "True\n",
            "False\n",
            "False\n",
            "True\n"
          ]
        }
      ]
    },
    {
      "cell_type": "markdown",
      "source": [
        "Functions can Return a Boolean"
      ],
      "metadata": {
        "id": "_bt-SNcqVlVn"
      }
    },
    {
      "cell_type": "code",
      "source": [
        "def SamMaangas():\n",
        "  return True\n",
        "\n",
        "print(SamMaangas())"
      ],
      "metadata": {
        "colab": {
          "base_uri": "https://localhost:8080/"
        },
        "id": "j_oZhJ-uV4aZ",
        "outputId": "2fb327e4-d8b3-4787-b95f-5fbc7254ad7f"
      },
      "execution_count": 15,
      "outputs": [
        {
          "output_type": "stream",
          "name": "stdout",
          "text": [
            "True\n"
          ]
        }
      ]
    },
    {
      "cell_type": "markdown",
      "source": [
        "Boolean Answer of a Function"
      ],
      "metadata": {
        "id": "RnDbOF7oWdbJ"
      }
    },
    {
      "cell_type": "code",
      "source": [
        "def SamMaangas():\n",
        "  return True\n",
        "\n",
        "if SamMaangas():\n",
        "  print(\"OMSIM\")\n",
        "else:\n",
        "  print(\"NOPE\")"
      ],
      "metadata": {
        "colab": {
          "base_uri": "https://localhost:8080/"
        },
        "id": "WRdjEByyWic_",
        "outputId": "ed7389be-9d8a-4012-ae6a-e3e4dde77fc9"
      },
      "execution_count": 16,
      "outputs": [
        {
          "output_type": "stream",
          "name": "stdout",
          "text": [
            "OMSIM\n"
          ]
        }
      ]
    },
    {
      "cell_type": "code",
      "source": [
        "print(10>9)\n",
        "\n",
        "a=6\n",
        "b=7\n",
        "print(a==b)\n",
        "print(a!=a)"
      ],
      "metadata": {
        "colab": {
          "base_uri": "https://localhost:8080/"
        },
        "id": "aH03pdpMXUuW",
        "outputId": "b629b1f5-bd23-4418-cdc6-40bfb55d8cf6"
      },
      "execution_count": 17,
      "outputs": [
        {
          "output_type": "stream",
          "name": "stdout",
          "text": [
            "True\n",
            "False\n",
            "False\n"
          ]
        }
      ]
    },
    {
      "cell_type": "markdown",
      "source": [
        "Python Operators"
      ],
      "metadata": {
        "id": "730nDppYXeoF"
      }
    },
    {
      "cell_type": "code",
      "source": [
        "print(42+69)\n",
        "print(42-69)\n",
        "print(42*69)\n",
        "print(42/69)\n",
        "print(42%69)\n",
        "print(42//69)\n",
        "print(42**69)"
      ],
      "metadata": {
        "colab": {
          "base_uri": "https://localhost:8080/"
        },
        "id": "dUM4Y3uqXg-F",
        "outputId": "2192bfaf-d246-42b5-d029-3c701c787f0b"
      },
      "execution_count": 20,
      "outputs": [
        {
          "output_type": "stream",
          "name": "stdout",
          "text": [
            "111\n",
            "-27\n",
            "2898\n",
            "0.6086956521739131\n",
            "42\n",
            "0\n",
            "10097201832880355573875790863214833226896186369872326994250398570376877433686009543845316266007917815719968899072\n"
          ]
        }
      ]
    },
    {
      "cell_type": "markdown",
      "source": [
        "Python Bitwise Operators"
      ],
      "metadata": {
        "id": "rii9S7iDX5-u"
      }
    },
    {
      "cell_type": "code",
      "source": [
        "a = 60\n",
        "b = 13\n",
        "\n",
        "print(\"a & b =\", a & b)\n",
        "print(\"a | b =\", a | b)\n",
        "print(\"a ^ b =\", a | b)\n",
        "print(\"~a =\", ~a)\n",
        "print(\"~b =\", ~b)\n",
        "print(\"a << b =\", a << 2)\n",
        "print(\"a >> b =\", a >> 2)"
      ],
      "metadata": {
        "colab": {
          "base_uri": "https://localhost:8080/"
        },
        "id": "LfGEo37aX8id",
        "outputId": "380ba081-794b-487b-88b5-380e310de7cd"
      },
      "execution_count": 39,
      "outputs": [
        {
          "output_type": "stream",
          "name": "stdout",
          "text": [
            "a & b = 12\n",
            "a | b = 61\n",
            "~a = -61\n",
            "~b = -14\n",
            "a << b = 240\n",
            "a >> b = 15\n"
          ]
        }
      ]
    },
    {
      "cell_type": "markdown",
      "source": [
        "Python Assignment Operators"
      ],
      "metadata": {
        "id": "dL2UPiFNhDL_"
      }
    },
    {
      "cell_type": "code",
      "source": [
        "x = 5\n",
        "x += 3 #same as x = x + 3\n",
        "print(x)\n",
        "x -= 3 #same as x = x - 3\n",
        "print(x)\n",
        "x *= 3 #same as x = x * 3\n",
        "print(x)\n",
        "x /= 3 #same as x = x / 3\n",
        "print(x)\n",
        "x %= 3 #same as x = x % 3\n",
        "print(x)"
      ],
      "metadata": {
        "colab": {
          "base_uri": "https://localhost:8080/"
        },
        "id": "6GAawfYjfqaH",
        "outputId": "e6abd6b3-c9f8-4aa6-9c7e-486a00e5b767"
      },
      "execution_count": 46,
      "outputs": [
        {
          "output_type": "stream",
          "name": "stdout",
          "text": [
            "8\n",
            "5\n",
            "15\n",
            "5.0\n",
            "2.0\n"
          ]
        }
      ]
    },
    {
      "cell_type": "markdown",
      "source": [
        "Logical Operators"
      ],
      "metadata": {
        "id": "WgDXpDVhiO_g"
      }
    },
    {
      "cell_type": "code",
      "source": [
        "a = False\n",
        "b = True\n",
        "print(a and b)\n",
        "print(a or b)\n",
        "print(not a and b)"
      ],
      "metadata": {
        "colab": {
          "base_uri": "https://localhost:8080/"
        },
        "id": "isjOqjZiiRhW",
        "outputId": "5774ce33-ebf3-4412-a1f7-20f8aaba5b3e"
      },
      "execution_count": 54,
      "outputs": [
        {
          "output_type": "stream",
          "name": "stdout",
          "text": [
            "False\n",
            "True\n",
            "True\n"
          ]
        }
      ]
    },
    {
      "cell_type": "markdown",
      "source": [
        "Identity Operator"
      ],
      "metadata": {
        "id": "7CyvucQIj4lz"
      }
    },
    {
      "cell_type": "code",
      "source": [
        "a = True\n",
        "b = False\n",
        "\n",
        "print(a is a)\n",
        "print(a is not b)\n",
        "\n"
      ],
      "metadata": {
        "colab": {
          "base_uri": "https://localhost:8080/"
        },
        "id": "nMYhkv5rjZDw",
        "outputId": "6f2ec794-b018-4bfe-fad1-733a31170d51"
      },
      "execution_count": 57,
      "outputs": [
        {
          "output_type": "stream",
          "name": "stdout",
          "text": [
            "True\n",
            "True\n"
          ]
        }
      ]
    }
  ]
}