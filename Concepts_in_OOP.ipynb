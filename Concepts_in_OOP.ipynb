{
  "nbformat": 4,
  "nbformat_minor": 0,
  "metadata": {
    "colab": {
      "provenance": [],
      "authorship_tag": "ABX9TyOAZfEPc5m6dQG3Aze/eboz",
      "include_colab_link": true
    },
    "kernelspec": {
      "name": "python3",
      "display_name": "Python 3"
    },
    "language_info": {
      "name": "python"
    }
  },
  "cells": [
    {
      "cell_type": "markdown",
      "metadata": {
        "id": "view-in-github",
        "colab_type": "text"
      },
      "source": [
        "<a href=\"https://colab.research.google.com/github/SamanthaJaron/OOP58001/blob/main/Concepts_in_OOP.ipynb\" target=\"_parent\"><img src=\"https://colab.research.google.com/assets/colab-badge.svg\" alt=\"Open In Colab\"/></a>"
      ]
    },
    {
      "cell_type": "code",
      "source": [
        "#Class Constructor\n",
        "class Car:\n",
        "  pass"
      ],
      "metadata": {
        "id": "Zkezh57naNa4"
      },
      "execution_count": null,
      "outputs": []
    },
    {
      "cell_type": "code",
      "source": [
        "#Create a class and object\n",
        "\n",
        "class MyNumber:\n",
        "  x = 14\n",
        "\n",
        "num1 = MyNumber()\n",
        "print(num1.x)"
      ],
      "metadata": {
        "colab": {
          "base_uri": "https://localhost:8080/"
        },
        "id": "l_QrpCNKaSyq",
        "outputId": "02a1ceb7-4f61-4c74-ffb3-3efde98c9a3f"
      },
      "execution_count": 25,
      "outputs": [
        {
          "output_type": "stream",
          "name": "stdout",
          "text": [
            "14\n"
          ]
        }
      ]
    },
    {
      "cell_type": "code",
      "source": [
        "class Person:\n",
        "  def __init__(self,name,age):\n",
        "    self.name = name\n",
        "    self.age = age\n",
        "  def myFunction(self):\n",
        "    print (\"Hello, my name is\" ,self.name)\n",
        "person = Person(\"Sam\", 19)\n",
        "person.myFunction() "
      ],
      "metadata": {
        "colab": {
          "base_uri": "https://localhost:8080/"
        },
        "id": "NRF5TXl6aUez",
        "outputId": "6c984a78-ade0-4714-f066-5144ae22a391"
      },
      "execution_count": 24,
      "outputs": [
        {
          "output_type": "stream",
          "name": "stdout",
          "text": [
            "Hello, my name is Sam\n"
          ]
        }
      ]
    },
    {
      "cell_type": "code",
      "source": [
        "#Modify the Object Properties\n",
        "\n",
        "person.name = \"Sam\"\n",
        "print(person.name)\n",
        "person.myFunction()"
      ],
      "metadata": {
        "colab": {
          "base_uri": "https://localhost:8080/"
        },
        "id": "dqq-_p3facFI",
        "outputId": "0a32f826-93e0-443a-b10b-ea3f314e7d79"
      },
      "execution_count": 22,
      "outputs": [
        {
          "output_type": "stream",
          "name": "stdout",
          "text": [
            "Sam\n",
            "Hello, my name is Sam\n"
          ]
        }
      ]
    },
    {
      "cell_type": "code",
      "source": [
        "#Deletion of Object Properties\n",
        "\n",
        "del person.age\n",
        "person.myFunction()\n",
        "print(person.name)"
      ],
      "metadata": {
        "colab": {
          "base_uri": "https://localhost:8080/",
          "height": 235
        },
        "id": "4BnY_nHzad8Y",
        "outputId": "1b6aa80f-b387-40df-d732-ef4ab24f2260"
      },
      "execution_count": 23,
      "outputs": [
        {
          "output_type": "error",
          "ename": "AttributeError",
          "evalue": "ignored",
          "traceback": [
            "\u001b[0;31m---------------------------------------------------------------------------\u001b[0m",
            "\u001b[0;31mAttributeError\u001b[0m                            Traceback (most recent call last)",
            "\u001b[0;32m<ipython-input-23-6e47faf4480f>\u001b[0m in \u001b[0;36m<module>\u001b[0;34m\u001b[0m\n\u001b[1;32m      1\u001b[0m \u001b[0;31m#Deletion of Object Properties\u001b[0m\u001b[0;34m\u001b[0m\u001b[0;34m\u001b[0m\u001b[0;34m\u001b[0m\u001b[0m\n\u001b[1;32m      2\u001b[0m \u001b[0;34m\u001b[0m\u001b[0m\n\u001b[0;32m----> 3\u001b[0;31m \u001b[0;32mdel\u001b[0m \u001b[0mperson\u001b[0m\u001b[0;34m.\u001b[0m\u001b[0mage\u001b[0m\u001b[0;34m\u001b[0m\u001b[0;34m\u001b[0m\u001b[0m\n\u001b[0m\u001b[1;32m      4\u001b[0m \u001b[0mperson\u001b[0m\u001b[0;34m.\u001b[0m\u001b[0mmyFunction\u001b[0m\u001b[0;34m(\u001b[0m\u001b[0;34m)\u001b[0m\u001b[0;34m\u001b[0m\u001b[0;34m\u001b[0m\u001b[0m\n\u001b[1;32m      5\u001b[0m \u001b[0mprint\u001b[0m\u001b[0;34m(\u001b[0m\u001b[0mperson\u001b[0m\u001b[0;34m.\u001b[0m\u001b[0mname\u001b[0m\u001b[0;34m)\u001b[0m\u001b[0;34m\u001b[0m\u001b[0;34m\u001b[0m\u001b[0m\n",
            "\u001b[0;31mAttributeError\u001b[0m: age"
          ]
        }
      ]
    },
    {
      "cell_type": "code",
      "source": [
        "# Compute for the area of Square\n",
        "\n",
        "class Shapes:\n",
        "  def __init__(self,side):  #initial function to name the attributes\n",
        "    self.side=side\n",
        "\n",
        "  def area (self):  #method/formula to compute for the area\n",
        "    return self.side*self.side\n",
        "  \n",
        "  def display(self):  #method to display the area\n",
        "    print (\"The Area of the Square is\", self.area())\n",
        "\n",
        "square = Shapes(4)\n",
        "square.display()\n",
        "     "
      ],
      "metadata": {
        "colab": {
          "base_uri": "https://localhost:8080/"
        },
        "id": "SbndaXiaaf67",
        "outputId": "16b3769b-4594-4d0f-93a9-e197499481ef"
      },
      "execution_count": 14,
      "outputs": [
        {
          "output_type": "stream",
          "name": "stdout",
          "text": [
            "The Area of the Square is 16\n"
          ]
        }
      ]
    },
    {
      "cell_type": "code",
      "execution_count": null,
      "metadata": {
        "colab": {
          "base_uri": "https://localhost:8080/"
        },
        "id": "HV59OnNFZDbY",
        "outputId": "0174e46b-1a8c-4754-dd8b-dde465ae253c"
      },
      "outputs": [
        {
          "output_type": "stream",
          "name": "stdout",
          "text": [
            "Fullname: Carla Samantha N. Jaron\n",
            "Student Number: 202210050\n",
            "School: Adamson University\n"
          ]
        }
      ],
      "source": [
        "class Student:\n",
        "  def __init__(self, fullname, student_number, school):\n",
        "    self.fullname = fullname\n",
        "    self.student_number = student_number\n",
        "    self.school = school\n",
        "  \n",
        "  def display_info(self):\n",
        "    print(f\"Fullname: {self.fullname}\\nStudent Number: {self.student_number}\\nSchool: {self.school}\")\n",
        "\n",
        "student = Student(\"Carla Samantha N. Jaron\", \"202210050\", \"Adamson University\")\n",
        "student.display_info()"
      ]
    }
  ]
}