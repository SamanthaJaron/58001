{
  "nbformat": 4,
  "nbformat_minor": 0,
  "metadata": {
    "colab": {
      "provenance": [],
      "authorship_tag": "ABX9TyO33AVltIzDDliiLVadyDy/",
      "include_colab_link": true
    },
    "kernelspec": {
      "name": "python3",
      "display_name": "Python 3"
    },
    "language_info": {
      "name": "python"
    }
  },
  "cells": [
    {
      "cell_type": "markdown",
      "metadata": {
        "id": "view-in-github",
        "colab_type": "text"
      },
      "source": [
        "<a href=\"https://colab.research.google.com/github/SamanthaJaron/OOP58001/blob/main/Functions%2C_List%2C_Dictionaries.ipynb\" target=\"_parent\"><img src=\"https://colab.research.google.com/assets/colab-badge.svg\" alt=\"Open In Colab\"/></a>"
      ]
    },
    {
      "cell_type": "markdown",
      "source": [
        "Functions"
      ],
      "metadata": {
        "id": "QwvFTx12Mb0P"
      }
    },
    {
      "cell_type": "code",
      "source": [
        "class shapes:\n",
        "  def __init__(self, length, width):\n",
        "    self.length = length\n",
        "    self.width = width\n",
        "  def area(self):\n",
        "    return self.length * self.width\n",
        "rectangle = shapes(10,5)\n",
        "rectangle.width\n",
        "rectangle.area()\n",
        "#rectangle"
      ],
      "metadata": {
        "colab": {
          "base_uri": "https://localhost:8080/"
        },
        "id": "sWEixY3RMfYm",
        "outputId": "07c20d8a-5d31-4985-8135-a6e911448332"
      },
      "execution_count": 9,
      "outputs": [
        {
          "output_type": "execute_result",
          "data": {
            "text/plain": [
              "50"
            ]
          },
          "metadata": {},
          "execution_count": 9
        }
      ]
    },
    {
      "cell_type": "code",
      "source": [
        "class shapes:\n",
        "  def __init__(self, side):\n",
        "    self.side = side\n",
        "  def arearec(self):\n",
        "    return self.length * self.width\n",
        "  def areasqr(self):\n",
        "    return self.side ** 2\n",
        "square = shapes(5)\n",
        "square.areasqr()\n",
        "#square"
      ],
      "metadata": {
        "colab": {
          "base_uri": "https://localhost:8080/"
        },
        "id": "WaIRgY0IO1xf",
        "outputId": "b250a697-0cbd-45c3-c28f-f741b97cc8d9"
      },
      "execution_count": 17,
      "outputs": [
        {
          "output_type": "execute_result",
          "data": {
            "text/plain": [
              "25"
            ]
          },
          "metadata": {},
          "execution_count": 17
        }
      ]
    },
    {
      "cell_type": "code",
      "source": [
        "pow(10,2)\n",
        "array = [\"apple\" , \"banana\" , \"orange\"]\n",
        "array.insert(0, \"cherry\")\n",
        "print(array)"
      ],
      "metadata": {
        "colab": {
          "base_uri": "https://localhost:8080/"
        },
        "id": "QQw8LsUVNPJf",
        "outputId": "7c3e9029-24e4-4292-81b6-d871c4fe6d12"
      },
      "execution_count": 6,
      "outputs": [
        {
          "output_type": "stream",
          "name": "stdout",
          "text": [
            "['cherry', 'apple', 'banana', 'orange']\n"
          ]
        }
      ]
    },
    {
      "cell_type": "code",
      "source": [
        "class Person:\n",
        "  def __init__(self, name, age):\n",
        "    self.name = name\n",
        "    self.age = age\n",
        "  def sam(self):\n",
        "   return \"My name is \" + self.name + \" and my age is \" + self.age + \" years old.\"\n",
        "\n",
        "SM = Person(\"Carla Samantha N. Jaron\" , \"19\")\n",
        "SM.sam()"
      ],
      "metadata": {
        "colab": {
          "base_uri": "https://localhost:8080/",
          "height": 35
        },
        "id": "z8UyVJZ1QbaI",
        "outputId": "586dd1db-f3ec-4d1f-ff9b-882aab9d3e2c"
      },
      "execution_count": 26,
      "outputs": [
        {
          "output_type": "execute_result",
          "data": {
            "text/plain": [
              "'My name is Carla Samantha N. Jaron and my age is 19 years old.'"
            ],
            "application/vnd.google.colaboratory.intrinsic+json": {
              "type": "string"
            }
          },
          "metadata": {},
          "execution_count": 26
        }
      ]
    },
    {
      "cell_type": "markdown",
      "source": [
        "List"
      ],
      "metadata": {
        "id": "LEk4F-gpVIiP"
      }
    },
    {
      "cell_type": "code",
      "source": [
        "pi = 3.14159\n",
        "varlist = ['abc' , 1 , 'def' , 2]\n",
        "print(varlist[0])\n",
        "\n",
        "varlist.append('ghi')\n",
        "print(varlist)\n",
        "varlist.remove(2)\n",
        "print(varlist)\n",
        "varlist.insert(3,3)\n",
        "print(varlist)"
      ],
      "metadata": {
        "colab": {
          "base_uri": "https://localhost:8080/"
        },
        "id": "cD65tPiVVJeQ",
        "outputId": "3a459790-3fb0-465b-b03f-7a624c63e020"
      },
      "execution_count": 29,
      "outputs": [
        {
          "output_type": "stream",
          "name": "stdout",
          "text": [
            "abc\n",
            "['abc', 1, 'def', 2, 'ghi']\n",
            "['abc', 1, 'def', 'ghi']\n",
            "['abc', 1, 'def', 3, 'ghi']\n"
          ]
        }
      ]
    },
    {
      "cell_type": "markdown",
      "source": [
        "Dictionaries"
      ],
      "metadata": {
        "id": "lNFIMAl9WZFR"
      }
    },
    {
      "cell_type": "code",
      "source": [
        "students = {\n",
        "    1: \"Sam\" ,\n",
        "    2: \"Jerril\" ,\n",
        "    3: \"Kean\" ,\n",
        "    4: \"Enzo\" ,\n",
        "    5: \"Jade\"\n",
        "}\n",
        "print(students)"
      ],
      "metadata": {
        "colab": {
          "base_uri": "https://localhost:8080/"
        },
        "id": "qLFBPg23WaTY",
        "outputId": "bf900996-9f4b-4bfa-d8f8-61da7175b647"
      },
      "execution_count": 32,
      "outputs": [
        {
          "output_type": "stream",
          "name": "stdout",
          "text": [
            "{1: 'Sam', 2: 'Jerril', 3: 'Kean', 4: 'Enzo', 5: 'Jade'}\n"
          ]
        }
      ]
    }
  ]
}