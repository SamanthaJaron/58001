{
  "nbformat": 4,
  "nbformat_minor": 0,
  "metadata": {
    "colab": {
      "provenance": [],
      "authorship_tag": "ABX9TyMZJdWf51Anrrkhcy3kXwCV",
      "include_colab_link": true
    },
    "kernelspec": {
      "name": "python3",
      "display_name": "Python 3"
    },
    "language_info": {
      "name": "python"
    }
  },
  "cells": [
    {
      "cell_type": "markdown",
      "metadata": {
        "id": "view-in-github",
        "colab_type": "text"
      },
      "source": [
        "<a href=\"https://colab.research.google.com/github/SamanthaJaron/OOP58001/blob/main/Control_Structure_in_Python.ipynb\" target=\"_parent\"><img src=\"https://colab.research.google.com/assets/colab-badge.svg\" alt=\"Open In Colab\"/></a>"
      ]
    },
    {
      "cell_type": "markdown",
      "source": [
        "If Statement\n",
        "\n"
      ],
      "metadata": {
        "id": "pHSGaNUYD5bC"
      }
    },
    {
      "cell_type": "code",
      "source": [
        "if 5 > 2:\n",
        "  print(\"five is greater than two\")"
      ],
      "metadata": {
        "colab": {
          "base_uri": "https://localhost:8080/"
        },
        "id": "PPnrCJCHECzy",
        "outputId": "8eebb8ce-726d-4471-b310-9dd90041a9d1"
      },
      "execution_count": 1,
      "outputs": [
        {
          "output_type": "stream",
          "name": "stdout",
          "text": [
            "b is greater than a\n"
          ]
        }
      ]
    },
    {
      "cell_type": "markdown",
      "source": [
        "Elif Statements"
      ],
      "metadata": {
        "id": "53pDKRjFEtGD"
      }
    },
    {
      "cell_type": "code",
      "source": [
        "a = 100\n",
        "b = 100\n",
        "if b > a:\n",
        "  print(\"b is greater than a\")\n",
        "elif a==b:\n",
        "  print(\"a and b are equal\")"
      ],
      "metadata": {
        "colab": {
          "base_uri": "https://localhost:8080/"
        },
        "id": "mlvybOEcEvPi",
        "outputId": "33310b2e-c52a-4d15-83ca-9aa758605e75"
      },
      "execution_count": 6,
      "outputs": [
        {
          "output_type": "stream",
          "name": "stdout",
          "text": [
            "a and b are equal\n"
          ]
        }
      ]
    },
    {
      "cell_type": "markdown",
      "source": [
        "Else Statements"
      ],
      "metadata": {
        "id": "3GW-Z8RPFAtL"
      }
    },
    {
      "cell_type": "code",
      "source": [
        "a = 200\n",
        "b = 33\n",
        "if b > a:\n",
        "  print(\"b is greater than a\")\n",
        "elif a == b:\n",
        "  print(\"a and b are equal\")\n",
        "else:\n",
        "  print(\"a is greater than b\")"
      ],
      "metadata": {
        "colab": {
          "base_uri": "https://localhost:8080/"
        },
        "id": "WBC3IwVXFCv6",
        "outputId": "beb6242d-dafc-45ae-fcba-6096729d89a8"
      },
      "execution_count": 4,
      "outputs": [
        {
          "output_type": "stream",
          "name": "stdout",
          "text": [
            "a is greater than b\n"
          ]
        }
      ]
    },
    {
      "cell_type": "markdown",
      "source": [
        "Short Hand If Statement"
      ],
      "metadata": {
        "id": "5xR0914oFtGr"
      }
    },
    {
      "cell_type": "code",
      "source": [
        "if a > b:\n",
        "  print(\"a is greater than b\")"
      ],
      "metadata": {
        "colab": {
          "base_uri": "https://localhost:8080/"
        },
        "id": "0cmaKS_TF1xz",
        "outputId": "4b199c6c-b10d-4a63-9b3d-e038c2348936"
      },
      "execution_count": 5,
      "outputs": [
        {
          "output_type": "stream",
          "name": "stdout",
          "text": [
            "a is greater than b\n"
          ]
        }
      ]
    },
    {
      "cell_type": "markdown",
      "source": [
        "Short Hand If..Else Statement"
      ],
      "metadata": {
        "id": "vLeiTOVlGMG0"
      }
    },
    {
      "cell_type": "code",
      "source": [
        "a = 2\n",
        "b = 330\n",
        "print(\"A\") if a > b else print(\"B\")"
      ],
      "metadata": {
        "colab": {
          "base_uri": "https://localhost:8080/"
        },
        "id": "lJU3NuQkGPtj",
        "outputId": "39164f9a-975e-4a89-bf4a-b6cfe034cba5"
      },
      "execution_count": 8,
      "outputs": [
        {
          "output_type": "stream",
          "name": "stdout",
          "text": [
            "B\n"
          ]
        }
      ]
    },
    {
      "cell_type": "code",
      "source": [
        "a = 200\n",
        "b = 33\n",
        "c = 500\n",
        "if a > b and c > a:\n",
        "  print(\"Both conditions are True\")"
      ],
      "metadata": {
        "colab": {
          "base_uri": "https://localhost:8080/"
        },
        "id": "jZiB6_FkK2HV",
        "outputId": "7d9035a2-7fca-4a5a-e063-198e20908dce"
      },
      "execution_count": 11,
      "outputs": [
        {
          "output_type": "stream",
          "name": "stdout",
          "text": [
            "Both conditions are True\n"
          ]
        }
      ]
    },
    {
      "cell_type": "code",
      "source": [
        "a = 200\n",
        "b = 33\n",
        "c = 500\n",
        "if a > b or a > c:\n",
        "  print(\"At least one of the conditions is True\")"
      ],
      "metadata": {
        "colab": {
          "base_uri": "https://localhost:8080/"
        },
        "id": "Y2RSgdGsLL0W",
        "outputId": "8e6f454f-35c4-4484-afdb-cf0a5330f66c"
      },
      "execution_count": 13,
      "outputs": [
        {
          "output_type": "stream",
          "name": "stdout",
          "text": [
            "At least one of the conditions is True\n"
          ]
        }
      ]
    },
    {
      "cell_type": "markdown",
      "source": [
        "Nested If"
      ],
      "metadata": {
        "id": "QLo3992dLTwe"
      }
    },
    {
      "cell_type": "code",
      "source": [
        "x=41\n",
        "if x>10:\n",
        "  print(\"x is above ten\")\n",
        "if x>20:\n",
        "  print(\"and also above twenty\")\n",
        "if x>30:\n",
        "  print(\"and also above thirty\")\n",
        "if x>40:\n",
        "  print(\"and also above forty\")\n",
        "if x<50:\n",
        "  print(\"but below fifty\")"
      ],
      "metadata": {
        "colab": {
          "base_uri": "https://localhost:8080/"
        },
        "id": "XXPmLCNXRDV5",
        "outputId": "d3803e4a-2beb-4b5d-d82c-82336ac63572"
      },
      "execution_count": 32,
      "outputs": [
        {
          "output_type": "stream",
          "name": "stdout",
          "text": [
            "x is above ten\n",
            "and also above twenty\n",
            "and also above thirty\n",
            "and also above forty\n",
            "but below fifty\n"
          ]
        }
      ]
    },
    {
      "cell_type": "code",
      "source": [
        "#Example1\n",
        "age=int(input(\"Enter Age: \"))\n",
        "if age >=18:\n",
        "  print(\"You are Qualified to Vote.\")\n",
        "else:\n",
        "  print(\"You are not Qualified to Vote.\")"
      ],
      "metadata": {
        "colab": {
          "base_uri": "https://localhost:8080/"
        },
        "id": "104gxvQjLUpm",
        "outputId": "ba9e055b-0b1b-4bfb-c17f-e5cc947f5f8a"
      },
      "execution_count": 18,
      "outputs": [
        {
          "output_type": "stream",
          "name": "stdout",
          "text": [
            "Enter Age: 18\n",
            "You are Qualified to Vote.\n"
          ]
        }
      ]
    },
    {
      "cell_type": "code",
      "source": [
        "#Example2\n",
        "num=int(input(\"Enter a Number: \"))\n",
        "if num>=1:\n",
        "  print(\"This is a POSITIVE NUMBER.\")\n",
        "elif num<0:\n",
        "  print(\"This is a NEGATIVE NUMBER.\")\n",
        "else:\n",
        "  print(\"This is a ZERO.\")"
      ],
      "metadata": {
        "colab": {
          "base_uri": "https://localhost:8080/"
        },
        "id": "fzffOQkPNzjf",
        "outputId": "bf2868cd-f03d-4888-8f3c-23d6b394ef99"
      },
      "execution_count": 33,
      "outputs": [
        {
          "output_type": "stream",
          "name": "stdout",
          "text": [
            "Enter a Number: 18\n",
            "This is a POSITIVE NUMBER.\n"
          ]
        }
      ]
    },
    {
      "cell_type": "code",
      "source": [
        "#Example3\n",
        "grade=int(input(\"Enter your Grade: \"))\n",
        "if grade>=70:\n",
        "  print(\"You PASSED! ^-^\")\n",
        "elif grade>=65:\n",
        "  print(\"You need to go to REMEDIAL. :((\")\n",
        "elif grade>=0:\n",
        "  print(\"You FAILED. D:\")\n",
        "else:\n",
        "  print(\"Invalid Grade. Please Try Again. :)\")"
      ],
      "metadata": {
        "colab": {
          "base_uri": "https://localhost:8080/"
        },
        "id": "td6AzXpELik9",
        "outputId": "9d211d2c-ad5c-414e-c7c5-3932abd9d9c0"
      },
      "execution_count": 31,
      "outputs": [
        {
          "output_type": "stream",
          "name": "stdout",
          "text": [
            "Enter your Grade: -1\n",
            "Invalid Grade. Please Try Again. :)\n"
          ]
        }
      ]
    }
  ]
}