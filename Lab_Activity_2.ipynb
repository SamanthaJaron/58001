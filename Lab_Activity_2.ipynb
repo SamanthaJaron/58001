{
  "nbformat": 4,
  "nbformat_minor": 0,
  "metadata": {
    "colab": {
      "provenance": [],
      "authorship_tag": "ABX9TyPYZa5nii4xdQOVype5LzzP",
      "include_colab_link": true
    },
    "kernelspec": {
      "name": "python3",
      "display_name": "Python 3"
    },
    "language_info": {
      "name": "python"
    }
  },
  "cells": [
    {
      "cell_type": "markdown",
      "metadata": {
        "id": "view-in-github",
        "colab_type": "text"
      },
      "source": [
        "<a href=\"https://colab.research.google.com/github/SamanthaJaron/OOP58001/blob/main/Lab_Activity_2.ipynb\" target=\"_parent\"><img src=\"https://colab.research.google.com/assets/colab-badge.svg\" alt=\"Open In Colab\"/></a>"
      ]
    },
    {
      "cell_type": "code",
      "source": [
        "class Circle:\n",
        "  def __init__(self, radius):\n",
        "    self.radius = radius\n",
        "    self.pi = 3.14159\n",
        "  def Perimeter(self):\n",
        "    return 2 * self.pi * self.radius\n",
        "  def Area(self):\n",
        "    return self.pi * self.radius ** 2\n",
        "\n",
        "  def Display(self):\n",
        "    print(\"Perimeter:\",self.Perimeter(), \"cm |\",round(self.Perimeter(), 2) , \"cm\" )\n",
        "    print(\"Area:\",self.Area(), \"cm |\",round(self.Area(), 2) , \"cm\")\n",
        "\n",
        "circleRadius = float(input(\"Type the radius here: \"))\n",
        "circle = Circle(circleRadius)\n",
        "circle.Display()"
      ],
      "metadata": {
        "colab": {
          "base_uri": "https://localhost:8080/"
        },
        "id": "KgIoa4jqMYTs",
        "outputId": "874dfeb1-ddd2-476c-eceb-7c731e829c35"
      },
      "execution_count": 31,
      "outputs": [
        {
          "output_type": "stream",
          "name": "stdout",
          "text": [
            "Type the radius here: 6\n",
            "Perimeter: 37.699079999999995 cm | 37.7 cm\n",
            "Area: 113.09724 cm | 113.1 cm\n"
          ]
        }
      ]
    }
  ]
}