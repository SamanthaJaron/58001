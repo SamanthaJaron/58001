{
  "nbformat": 4,
  "nbformat_minor": 0,
  "metadata": {
    "colab": {
      "provenance": [],
      "authorship_tag": "ABX9TyOeUid7H1zTUf3OQNJsw0uz",
      "include_colab_link": true
    },
    "kernelspec": {
      "name": "python3",
      "display_name": "Python 3"
    },
    "language_info": {
      "name": "python"
    }
  },
  "cells": [
    {
      "cell_type": "markdown",
      "metadata": {
        "id": "view-in-github",
        "colab_type": "text"
      },
      "source": [
        "<a href=\"https://colab.research.google.com/github/SamanthaJaron/OOP58001/blob/main/Hands_On_1.ipynb\" target=\"_parent\"><img src=\"https://colab.research.google.com/assets/colab-badge.svg\" alt=\"Open In Colab\"/></a>"
      ]
    },
    {
      "cell_type": "code",
      "execution_count": 32,
      "metadata": {
        "colab": {
          "base_uri": "https://localhost:8080/"
        },
        "id": "oLcC8mnQeU_3",
        "outputId": "641d542e-4cf3-467b-b5b3-af51fae5fe15"
      },
      "outputs": [
        {
          "output_type": "stream",
          "name": "stdout",
          "text": [
            "The Grade of Student 1 is 93.0\n",
            "The Grade of Student 2 is 76.0\n",
            "The Grade of Student 3 is 83.0\n"
          ]
        }
      ],
      "source": [
        "class Student:\n",
        "  def __init__(self, pre, mid, fin, name):\n",
        "    self.pre = pre\n",
        "    self.mid = mid\n",
        "    self.fin = fin\n",
        "    self.name = name\n",
        "\n",
        "  def grade(self):\n",
        "    average = (self.pre+self.mid+self.fin)/3\n",
        "    print(f\"The Grade of {self.name} is\", average)\n",
        "\n",
        "std1 = Student(90, 91, 98, 'Student 1')\n",
        "std1.grade()\n",
        "\n",
        "std2 = Student(72, 74, 82, 'Student 2')\n",
        "std2.grade()\n",
        "\n",
        "std3 = Student(70, 85, 94, 'Student 3')\n",
        "std3.grade()\n"
      ]
    }
  ]
}